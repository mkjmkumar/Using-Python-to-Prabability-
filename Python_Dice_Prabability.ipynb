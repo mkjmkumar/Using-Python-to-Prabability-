{
 "cells": [
  {
   "cell_type": "code",
   "execution_count": 56,
   "metadata": {},
   "outputs": [],
   "source": [
    "#Lets roll two dice and now what is the outcome of independent throw\n",
    "d={(i,j):i+j for i in range(1,7) for j in range(1,7)}"
   ]
  },
  {
   "cell_type": "code",
   "execution_count": 48,
   "metadata": {},
   "outputs": [
    {
     "data": {
      "text/plain": [
       "[(1, 6), (2, 5), (3, 4), (6, 1), (5, 2), (4, 3)]"
      ]
     },
     "execution_count": 48,
     "metadata": {},
     "output_type": "execute_result"
    }
   ],
   "source": [
    "#Following list of pairs that sum to seven\n",
    "from collections import defaultdict\n",
    "dinv = defaultdict(list)\n",
    "for i,j in d.items():\n",
    "    dinv[j].append(i)\n",
    "dinv[7]"
   ]
  },
  {
   "cell_type": "code",
   "execution_count": 52,
   "metadata": {},
   "outputs": [
    {
     "data": {
      "text/plain": [
       "[(6, 5), (5, 6)]"
      ]
     },
     "execution_count": 52,
     "metadata": {},
     "output_type": "execute_result"
    }
   ],
   "source": [
    "dinv[11]"
   ]
  },
  {
   "cell_type": "code",
   "execution_count": 53,
   "metadata": {},
   "outputs": [
    {
     "data": {
      "text/plain": [
       "{2: 0.027777777777777776,\n",
       " 3: 0.05555555555555555,\n",
       " 4: 0.08333333333333333,\n",
       " 5: 0.1111111111111111,\n",
       " 6: 0.1388888888888889,\n",
       " 7: 0.16666666666666666,\n",
       " 8: 0.1388888888888889,\n",
       " 9: 0.1111111111111111,\n",
       " 10: 0.08333333333333333,\n",
       " 11: 0.05555555555555555,\n",
       " 12: 0.027777777777777776}"
      ]
     },
     "execution_count": 53,
     "metadata": {},
     "output_type": "execute_result"
    }
   ],
   "source": [
    "#Find the probability of each sum of throw of all possible occurence\n",
    "#for example probability of having 11 is 2 out of 36 i.e. [(6, 5), (5, 6)]\n",
    "#So 2/36 = 0.05555555555555555\n",
    "X={i:len(j)/36 for i,j in dinv.items() }\n",
    "X"
   ]
  },
  {
   "cell_type": "code",
   "execution_count": 63,
   "metadata": {},
   "outputs": [],
   "source": [
    "#What if we have three dice\n",
    "d3={(i,j,k):i+j+k for i in range(1,7) for j in range(1,7) for k in range(1,7)}"
   ]
  },
  {
   "cell_type": "code",
   "execution_count": 72,
   "metadata": {},
   "outputs": [
    {
     "data": {
      "text/plain": [
       "{2: 0.004629629629629629,\n",
       " 3: 0.009259259259259259,\n",
       " 4: 0.013888888888888888,\n",
       " 5: 0.018518518518518517,\n",
       " 6: 0.023148148148148147,\n",
       " 7: 0.027777777777777776,\n",
       " 8: 0.023148148148148147,\n",
       " 9: 0.018518518518518517,\n",
       " 10: 0.013888888888888888,\n",
       " 11: 0.009259259259259259,\n",
       " 12: 0.004629629629629629}"
      ]
     },
     "execution_count": 72,
     "metadata": {},
     "output_type": "execute_result"
    }
   ],
   "source": [
    "#The dice are independent, the probability of any triple is 1/(6)power3\n",
    "X={i:len(j)/6**3 for i,j in dinv.items()}\n",
    "X"
   ]
  },
  {
   "cell_type": "code",
   "execution_count": 102,
   "metadata": {},
   "outputs": [],
   "source": [
    "#Let’s try computing this using Pandas instead of Python dictionaries. \n",
    "from pandas import DataFrame\n",
    "d=DataFrame(index=[(i,j) for i in range(1,7) for j in range(1,7)], columns =('d1','d2','d1d2sum','p'))\n",
    "#set up above where the outcome of the first die is the d1 column and the outcome of the second die is d2\n",
    "d.d1=[i[0] for i in d.index]\n",
    "d.d2=[i[1] for i in d.index]"
   ]
  },
  {
   "cell_type": "code",
   "execution_count": 108,
   "metadata": {},
   "outputs": [],
   "source": [
    "d.d1d2sum=d.d1 + d.d2\n",
    "d.loc[d.d1>0,'pd1']=1/36"
   ]
  },
  {
   "cell_type": "code",
   "execution_count": 109,
   "metadata": {},
   "outputs": [
    {
     "data": {
      "text/html": [
       "<div>\n",
       "<style scoped>\n",
       "    .dataframe tbody tr th:only-of-type {\n",
       "        vertical-align: middle;\n",
       "    }\n",
       "\n",
       "    .dataframe tbody tr th {\n",
       "        vertical-align: top;\n",
       "    }\n",
       "\n",
       "    .dataframe thead th {\n",
       "        text-align: right;\n",
       "    }\n",
       "</style>\n",
       "<table border=\"1\" class=\"dataframe\">\n",
       "  <thead>\n",
       "    <tr style=\"text-align: right;\">\n",
       "      <th></th>\n",
       "      <th>d1</th>\n",
       "      <th>d2</th>\n",
       "      <th>d1d2sum</th>\n",
       "      <th>p</th>\n",
       "      <th>pd1</th>\n",
       "    </tr>\n",
       "  </thead>\n",
       "  <tbody>\n",
       "    <tr>\n",
       "      <th>(1, 1)</th>\n",
       "      <td>1</td>\n",
       "      <td>1</td>\n",
       "      <td>2</td>\n",
       "      <td>1</td>\n",
       "      <td>0.027778</td>\n",
       "    </tr>\n",
       "    <tr>\n",
       "      <th>(1, 2)</th>\n",
       "      <td>1</td>\n",
       "      <td>2</td>\n",
       "      <td>3</td>\n",
       "      <td>2</td>\n",
       "      <td>0.027778</td>\n",
       "    </tr>\n",
       "    <tr>\n",
       "      <th>(1, 3)</th>\n",
       "      <td>1</td>\n",
       "      <td>3</td>\n",
       "      <td>4</td>\n",
       "      <td>3</td>\n",
       "      <td>0.027778</td>\n",
       "    </tr>\n",
       "    <tr>\n",
       "      <th>(1, 4)</th>\n",
       "      <td>1</td>\n",
       "      <td>4</td>\n",
       "      <td>5</td>\n",
       "      <td>4</td>\n",
       "      <td>0.027778</td>\n",
       "    </tr>\n",
       "    <tr>\n",
       "      <th>(1, 5)</th>\n",
       "      <td>1</td>\n",
       "      <td>5</td>\n",
       "      <td>6</td>\n",
       "      <td>5</td>\n",
       "      <td>0.027778</td>\n",
       "    </tr>\n",
       "  </tbody>\n",
       "</table>\n",
       "</div>"
      ],
      "text/plain": [
       "        d1  d2  d1d2sum  p       pd1\n",
       "(1, 1)   1   1        2  1  0.027778\n",
       "(1, 2)   1   2        3  2  0.027778\n",
       "(1, 3)   1   3        4  3  0.027778\n",
       "(1, 4)   1   4        5  4  0.027778\n",
       "(1, 5)   1   5        6  5  0.027778"
      ]
     },
     "execution_count": 109,
     "metadata": {},
     "output_type": "execute_result"
    }
   ],
   "source": [
    "d.p = (d.d1 * d.d2)\n",
    "d.head(5)"
   ]
  },
  {
   "cell_type": "code",
   "execution_count": 110,
   "metadata": {},
   "outputs": [
    {
     "data": {
      "text/plain": [
       "d1d2sum\n",
       "2     0.027778\n",
       "3     0.055556\n",
       "4     0.083333\n",
       "5     0.111111\n",
       "6     0.138889\n",
       "7     0.166667\n",
       "8     0.138889\n",
       "9     0.111111\n",
       "10    0.083333\n",
       "11    0.055556\n",
       "12    0.027778\n",
       "Name: pd1, dtype: float64"
      ]
     },
     "execution_count": 110,
     "metadata": {},
     "output_type": "execute_result"
    }
   ],
   "source": [
    "d.groupby('d1d2sum')['pd1'].sum()"
   ]
  },
  {
   "cell_type": "code",
   "execution_count": 111,
   "metadata": {},
   "outputs": [
    {
     "data": {
      "text/plain": [
       "0.027777777777777776"
      ]
     },
     "execution_count": 111,
     "metadata": {},
     "output_type": "execute_result"
    }
   ],
   "source": []
  },
  {
   "cell_type": "code",
   "execution_count": null,
   "metadata": {},
   "outputs": [],
   "source": []
  }
 ],
 "metadata": {
  "kernelspec": {
   "display_name": "Python 3",
   "language": "python",
   "name": "python3"
  },
  "language_info": {
   "codemirror_mode": {
    "name": "ipython",
    "version": 3
   },
   "file_extension": ".py",
   "mimetype": "text/x-python",
   "name": "python",
   "nbconvert_exporter": "python",
   "pygments_lexer": "ipython3",
   "version": "3.5.4"
  }
 },
 "nbformat": 4,
 "nbformat_minor": 2
}
